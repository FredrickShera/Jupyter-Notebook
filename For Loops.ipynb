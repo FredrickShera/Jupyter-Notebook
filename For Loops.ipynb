{
 "cells": [
  {
   "cell_type": "markdown",
   "id": "fa17a06e-b437-492f-a645-330fe9a36345",
   "metadata": {},
   "source": [
    "# For Loops"
   ]
  },
  {
   "cell_type": "code",
   "execution_count": 2,
   "id": "d285569c-7eeb-443a-bd7d-2b89d78b0390",
   "metadata": {},
   "outputs": [],
   "source": [
    "integers = [1,2,3,4,5]"
   ]
  },
  {
   "cell_type": "code",
   "execution_count": 3,
   "id": "00c4a804-bef8-4fe5-b435-326d2d9c612e",
   "metadata": {},
   "outputs": [
    {
     "name": "stdout",
     "output_type": "stream",
     "text": [
      "1\n",
      "2\n",
      "3\n",
      "4\n",
      "5\n"
     ]
    }
   ],
   "source": [
    "for number in integers:\n",
    "    print(number)"
   ]
  },
  {
   "cell_type": "code",
   "execution_count": 4,
   "id": "08f54d5f-abd7-4492-a550-915747aa4097",
   "metadata": {},
   "outputs": [
    {
     "name": "stdout",
     "output_type": "stream",
     "text": [
      "Yo!\n",
      "Yo!\n",
      "Yo!\n",
      "Yo!\n",
      "Yo!\n"
     ]
    }
   ],
   "source": [
    "for number in integers:\n",
    "    print('Yo!')"
   ]
  },
  {
   "cell_type": "code",
   "execution_count": 5,
   "id": "b3fd5d28-ff0b-48f3-bbb8-2aff00ed6384",
   "metadata": {},
   "outputs": [
    {
     "name": "stdout",
     "output_type": "stream",
     "text": [
      "2\n",
      "4\n",
      "6\n",
      "8\n",
      "10\n"
     ]
    }
   ],
   "source": [
    "for jelly in integers:\n",
    "    print(jelly + jelly)"
   ]
  },
  {
   "cell_type": "code",
   "execution_count": null,
   "id": "8402f8ec-fe85-4cf7-a319-bfaf78cd1bb8",
   "metadata": {},
   "outputs": [],
   "source": []
  },
  {
   "cell_type": "code",
   "execution_count": 18,
   "id": "62088db3-8a13-4351-974e-775b8cff38f2",
   "metadata": {},
   "outputs": [],
   "source": [
    "ice_cream_dict = {'name': 'Fredrick Shera', 'Weekly intake': 5, 'Favorite ice creams': ['MCC', 'Chocolate']}"
   ]
  },
  {
   "cell_type": "code",
   "execution_count": 19,
   "id": "061df1cc-d5fe-4716-bd22-9e4ad7049bf5",
   "metadata": {},
   "outputs": [
    {
     "name": "stdout",
     "output_type": "stream",
     "text": [
      "Fredrick Shera\n",
      "5\n",
      "['MCC', 'Chocolate']\n"
     ]
    }
   ],
   "source": [
    "for cream in ice_cream_dict.values():\n",
    "    print(cream)"
   ]
  },
  {
   "cell_type": "code",
   "execution_count": 24,
   "id": "812a3c94-4999-419e-a2ea-50f99808dcdd",
   "metadata": {},
   "outputs": [
    {
     "name": "stdout",
     "output_type": "stream",
     "text": [
      "name -> Fredrick Shera\n",
      "Weekly intake -> 5\n",
      "Favorite ice creams -> ['MCC', 'Chocolate']\n"
     ]
    }
   ],
   "source": [
    "for key, value in ice_cream_dict.items():\n",
    "    print(key, '->', value)"
   ]
  },
  {
   "cell_type": "code",
   "execution_count": null,
   "id": "4a327b65-0135-4fbc-bc78-115e022b49ef",
   "metadata": {},
   "outputs": [],
   "source": []
  }
 ],
 "metadata": {
  "kernelspec": {
   "display_name": "Python 3 (ipykernel)",
   "language": "python",
   "name": "python3"
  },
  "language_info": {
   "codemirror_mode": {
    "name": "ipython",
    "version": 3
   },
   "file_extension": ".py",
   "mimetype": "text/x-python",
   "name": "python",
   "nbconvert_exporter": "python",
   "pygments_lexer": "ipython3",
   "version": "3.12.4"
  }
 },
 "nbformat": 4,
 "nbformat_minor": 5
}
