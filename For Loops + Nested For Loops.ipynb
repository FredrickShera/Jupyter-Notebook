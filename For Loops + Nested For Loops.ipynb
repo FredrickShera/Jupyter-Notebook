{
 "cells": [
  {
   "cell_type": "markdown",
   "id": "32f52e62-cdff-4699-96a8-b7378cd4014c",
   "metadata": {},
   "source": [
    "# Nested For Loops"
   ]
  },
  {
   "cell_type": "code",
   "execution_count": 1,
   "id": "554ae0a5-0d34-4d0c-9641-755fd65bcfaf",
   "metadata": {},
   "outputs": [],
   "source": [
    "flavors = ['Vanilla', 'Chocolate', 'Cookie Dough']\n",
    "topings = ['Hot fudge', 'Oreos', 'Marshmallows']"
   ]
  },
  {
   "cell_type": "code",
   "execution_count": 2,
   "id": "d748774d-8f9a-4aef-aa1c-532772d2e6cf",
   "metadata": {},
   "outputs": [
    {
     "name": "stdout",
     "output_type": "stream",
     "text": [
      "Vanilla topped with Hot fudge\n",
      "Vanilla topped with Oreos\n",
      "Vanilla topped with Marshmallows\n",
      "Chocolate topped with Hot fudge\n",
      "Chocolate topped with Oreos\n",
      "Chocolate topped with Marshmallows\n",
      "Cookie Dough topped with Hot fudge\n",
      "Cookie Dough topped with Oreos\n",
      "Cookie Dough topped with Marshmallows\n"
     ]
    }
   ],
   "source": [
    "for one in flavors:\n",
    "    for two in topings:\n",
    "        print(one, 'topped with', two)"
   ]
  },
  {
   "cell_type": "code",
   "execution_count": null,
   "id": "f49f7cab-9a60-4689-af86-c58bc69f8066",
   "metadata": {},
   "outputs": [],
   "source": []
  }
 ],
 "metadata": {
  "kernelspec": {
   "display_name": "Python 3 (ipykernel)",
   "language": "python",
   "name": "python3"
  },
  "language_info": {
   "codemirror_mode": {
    "name": "ipython",
    "version": 3
   },
   "file_extension": ".py",
   "mimetype": "text/x-python",
   "name": "python",
   "nbconvert_exporter": "python",
   "pygments_lexer": "ipython3",
   "version": "3.12.4"
  }
 },
 "nbformat": 4,
 "nbformat_minor": 5
}
