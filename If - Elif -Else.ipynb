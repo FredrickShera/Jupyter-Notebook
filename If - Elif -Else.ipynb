{
 "cells": [
  {
   "cell_type": "markdown",
   "id": "1c6c3d54-8898-4739-b2fb-5bf67ff80513",
   "metadata": {},
   "source": [
    "# If - Elif - Else"
   ]
  },
  {
   "cell_type": "code",
   "execution_count": 3,
   "id": "7cfea1c0-4e94-4e2a-a7ac-d5bd0b731300",
   "metadata": {},
   "outputs": [
    {
     "name": "stdout",
     "output_type": "stream",
     "text": [
      "it worked very well!\n"
     ]
    }
   ],
   "source": [
    "if 34 > 10:\n",
    "    print('it worked very well!')"
   ]
  },
  {
   "cell_type": "code",
   "execution_count": 9,
   "id": "0912c232-61c0-41b5-998e-c5b9bfcf0ef8",
   "metadata": {},
   "outputs": [
    {
     "name": "stdout",
     "output_type": "stream",
     "text": [
      "it did not work...!\n"
     ]
    }
   ],
   "source": [
    "if 34 < 10:\n",
    "    print('it worked very well!')\n",
    "else:\n",
    "    print('it did not work...!')"
   ]
  },
  {
   "cell_type": "code",
   "execution_count": 13,
   "id": "f0471e99-fc27-414a-ad3b-dce1aee3dbce",
   "metadata": {},
   "outputs": [
    {
     "name": "stdout",
     "output_type": "stream",
     "text": [
      "elif 3 worked\n"
     ]
    }
   ],
   "source": [
    "if 34 < 10:\n",
    "    print('it worked very well!')\n",
    "elif 34 < 20:\n",
    "    print('elif worked')\n",
    "elif 34 < 21:\n",
    "    print('elif 2 worked')\n",
    "elif 34 < 40:\n",
    "    print('elif 3 worked')\n",
    "elif 34 < 50:\n",
    "    print('elif 4 worked')\n",
    "else:\n",
    "    print('it did not work...!')"
   ]
  },
  {
   "cell_type": "code",
   "execution_count": 15,
   "id": "e8ea5423-17e7-41a6-bc4d-1c58df928b74",
   "metadata": {},
   "outputs": [
    {
     "name": "stdout",
     "output_type": "stream",
     "text": [
      "it did not work!\n"
     ]
    }
   ],
   "source": [
    "print('it worked') if 10 > 30 else print('it did not work!')"
   ]
  },
  {
   "cell_type": "code",
   "execution_count": null,
   "id": "cb88ff7e-4d91-401f-8999-35296dec3b68",
   "metadata": {},
   "outputs": [],
   "source": []
  },
  {
   "cell_type": "code",
   "execution_count": 18,
   "id": "408fe4ae-d82e-451f-834f-acbc47545e5b",
   "metadata": {},
   "outputs": [
    {
     "name": "stdout",
     "output_type": "stream",
     "text": [
      "it worked very well!\n",
      "This nested if statement\n"
     ]
    }
   ],
   "source": [
    "if (34 < 10) or (1 < 3):\n",
    "    print('it worked very well!')\n",
    "    if 10 > 5:\n",
    "        print('This nested if statement worked')\n",
    "elif 34 < 20:\n",
    "    print('elif worked')\n",
    "elif 34 < 21:\n",
    "    print('elif 2 worked')\n",
    "elif 34 < 40:\n",
    "    print('elif 3 worked')\n",
    "elif 34 < 50:\n",
    "    print('elif 4 worked')\n",
    "else:\n",
    "    print('it did not work...!')"
   ]
  },
  {
   "cell_type": "code",
   "execution_count": null,
   "id": "6f7e04d1-87f1-4420-920b-6fbbcfde2ab8",
   "metadata": {},
   "outputs": [],
   "source": []
  },
  {
   "cell_type": "code",
   "execution_count": null,
   "id": "d18b74bf-49f4-4f02-bee4-22b76a818253",
   "metadata": {},
   "outputs": [],
   "source": []
  },
  {
   "cell_type": "code",
   "execution_count": null,
   "id": "5b9c5097-0a8f-43e9-a3f0-a6f08ca6788e",
   "metadata": {},
   "outputs": [],
   "source": []
  },
  {
   "cell_type": "code",
   "execution_count": null,
   "id": "5a61a1e5-9834-41f8-aec9-71586cd16b50",
   "metadata": {},
   "outputs": [],
   "source": []
  },
  {
   "cell_type": "code",
   "execution_count": null,
   "id": "70c5c7ea-4943-47a8-93f8-acd0dc3ec143",
   "metadata": {},
   "outputs": [],
   "source": []
  },
  {
   "cell_type": "code",
   "execution_count": null,
   "id": "3ff41380-538b-4579-b94f-f54999f4029e",
   "metadata": {},
   "outputs": [],
   "source": []
  }
 ],
 "metadata": {
  "kernelspec": {
   "display_name": "Python 3 (ipykernel)",
   "language": "python",
   "name": "python3"
  },
  "language_info": {
   "codemirror_mode": {
    "name": "ipython",
    "version": 3
   },
   "file_extension": ".py",
   "mimetype": "text/x-python",
   "name": "python",
   "nbconvert_exporter": "python",
   "pygments_lexer": "ipython3",
   "version": "3.12.4"
  }
 },
 "nbformat": 4,
 "nbformat_minor": 5
}
